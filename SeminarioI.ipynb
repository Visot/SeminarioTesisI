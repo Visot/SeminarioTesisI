{
 "cells": [
  {
   "cell_type": "markdown",
   "metadata": {},
   "source": [
    "# Seminario de Tesis I \n",
    "\n",
    "## Entrenamiento de una Deep Neural Network mediante el uso de GPGPU computing."
   ]
  },
  {
   "cell_type": "markdown",
   "metadata": {},
   "source": [
    "### Introducción\n",
    "\n",
    "En el campo de la inteligencia artificial las **redes neuronales profundas**(Deep Neural Network) tienen un papel muy importante debido a que estas son el camino para que las computadoras realicen tareas que nuestros cerebros realizan  de natural, tareas como por ejemplo el reconocimiento de voz, imagenes y patrones. \n",
    "En la actualidad muchas empresas importantes utilizan las redes neuronales profundas algunas de estas empresas son google con el reconocimiento de voz e imagenes, Netflix para la realizar las sugerencias a sus usuarios entre otros. Un caracteristica de las redes neuronales profundas es que están compuestas por una gran cantidad de capas lo cual dificulta el entrenamiento en computadoras que solo usan el CPU. Una manera de resolver este problema es mediante el uso de las GPU's debido que las tareas de entrenamiento son paralelizables podemos usar las GPU'S para acelerar el proceso de entrenamientos de nuestra red neuronal profunda."
   ]
  },
  {
   "cell_type": "markdown",
   "metadata": {},
   "source": [
    "\n",
    "### Marco Teoríco\n",
    "### CPU\n",
    "CPU(Central Processing Unit) es el hardware encargado del procesamiento de tareas mediante las operaciones básicas aritméticas, logicas y de entrada y salida del sistema. Los ordenadores actuales cuenta con más de una lo cual les permite usar multiprocesamiento. Los nucleos de la cpu estan hechos para el procesamiento de las tareas de manera secuencial.\n",
    "Una CPU tiene 2 componentes principales:\n",
    "+ **ALU (Unidad Aritmetica Logica):** se encarga de realizar las operaciones aritméticas y lógicas.\n",
    "+ **CU  (Unidad de Control       ):** extrae información de la memoria la decodifica y ejecuta llamando a ALU las veces que sea necesario.\n",
    "\n",
    "### GPU\n",
    "Las GPU(Graphics Processing Unit)\n",
    "A diferencia de las CPU los GPU's estan compuestos de miles de nucleos que fueron diseñados para resolver tareas en paralelo.\n",
    "\n",
    "### GPGPU\n",
    "GPGPU(General Purpose Graphics Processing Unit) consiste en realizacción de los calculos que comumente serian realizados por el CPU utilizando GPU. Este método permite aprovechar los beneficios de potencia en procesamiento paralelos de las GPU's.\n",
    "<img src=http://la.nvidia.com/docs/IO/144271/cpu-and-gpu.jpg>"
   ]
  },
  {
   "cell_type": "markdown",
   "metadata": {},
   "source": [
    "\n",
    "\n",
    "### Neuronas\n",
    "En la biología la neurona es conocida como la unidad fundamental del cerebro humano, el cual está compuesto por millones de neuronas interconectadas entre si. El trabajo de las neuronas consiste en recibir información, procesarla y enviarla a otras células. Este modelo fue copiado en 1943 por Warren S. McCulloch y Walter H. Pitts. Analogamente con las neuronas del cerebro humano nuestra neuro artificial toma una cantidad n de entradas x<sub>1</sub>, x<sub>2</sub>, x<sub>3</sub>, .. , x<sub>n</sub> estas entradas serán multiplicadas por pesos w<sub>1</sub>, w<sub>2</sub>, w<sub>3</sub>, .. , w<sub>n</sub> además se puede añadir una constante que llamaremos bias. La entrada a de la neurona será la suma total de los productos z=  $\\sum_{i=1}^{n}x_{i}$ , el valor de z será la entrada a la neurona la cual la evaluará con una función f de tal forma que nuestra salida sea $y=f(z)$. Otra forma de ver esta expresión es por medio de la notación de vectores donde representaremos a las entradas como $x= [x_{1}  x_{2}  x_{3}  ...  x_{n}]$ y los pesos w= $[w_{1}  w_{2}  w_{3}  ...  w_{n}]$ de esta manera la salida de la neurona estará dada por $y=f(x\\cdot w+b)$ donde b representa las bias. \n",
    "\n",
    "### Redes Neuronales\n",
    "\n",
    "Las redes neuronales son la unión de las neuronas entre si\n",
    "\n",
    "### Redes Neuronales Profundas\n",
    "\n"
   ]
  },
  {
   "cell_type": "markdown",
   "metadata": {},
   "source": [
    "### Herramientas\n",
    "\n",
    "#### TensorFlow\n",
    "Es una librería open source que es usada para la computación numérica que utiliza gráficos de flujos de datos. Los nodos del gráfico representarán las operaciones matemáticas y los bordes representarán los datos multidimensionales tensores. La arquitectura flexible permite implementar cálculos a una a o más CPU's o GPUs"
   ]
  }
 ],
 "metadata": {
  "kernelspec": {
   "display_name": "Python 3",
   "language": "python",
   "name": "python3"
  },
  "language_info": {
   "codemirror_mode": {
    "name": "ipython",
    "version": 3
   },
   "file_extension": ".py",
   "mimetype": "text/x-python",
   "name": "python",
   "nbconvert_exporter": "python",
   "pygments_lexer": "ipython3",
   "version": "3.6.1"
  }
 },
 "nbformat": 4,
 "nbformat_minor": 2
}
